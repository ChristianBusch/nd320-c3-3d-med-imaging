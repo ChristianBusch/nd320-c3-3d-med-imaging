{
 "cells": [
  {
   "cell_type": "markdown",
   "metadata": {},
   "source": [
    "# Anonymizing DICOM\n",
    "\n",
    "In this exercise you will try your hand at anonymizing a DICOM series. You will find the series in a directory called `data`. \n",
    "\n",
    "Imagine that you are starting a joint research project with a hospital and they have given you a sample image series to agree on anonymiaztion protocol for their data. You will need to come up with one before you see any further data\n",
    "\n",
    "First, inspect the data and think of what fields you would need to remove per HIPAA guidelines, as discussed in lesson videos"
   ]
  },
  {
   "cell_type": "code",
   "execution_count": 4,
   "metadata": {},
   "outputs": [],
   "source": [
    "import pydicom\n",
    "import os"
   ]
  },
  {
   "cell_type": "code",
   "execution_count": 7,
   "metadata": {},
   "outputs": [],
   "source": [
    "path = \"data/MRSeries\"\n",
    "dcm = [pydicom.dcmread(os.path.join(path, f)) for f in os.listdir(path)]"
   ]
  }
 ],
 "metadata": {
  "kernelspec": {
   "display_name": "Python 3",
   "language": "python",
   "name": "python3"
  },
  "language_info": {
   "codemirror_mode": {
    "name": "ipython",
    "version": 3
   },
   "file_extension": ".py",
   "mimetype": "text/x-python",
   "name": "python",
   "nbconvert_exporter": "python",
   "pygments_lexer": "ipython3",
   "version": "3.7.6"
  }
 },
 "nbformat": 4,
 "nbformat_minor": 2
}
