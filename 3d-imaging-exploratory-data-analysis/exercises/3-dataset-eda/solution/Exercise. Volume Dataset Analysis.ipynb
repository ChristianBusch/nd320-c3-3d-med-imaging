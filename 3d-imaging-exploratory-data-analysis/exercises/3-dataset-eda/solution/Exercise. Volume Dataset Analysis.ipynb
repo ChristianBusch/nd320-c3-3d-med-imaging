{
 "cells": [
  {
   "cell_type": "markdown",
   "metadata": {},
   "source": [
    "# Volume Dataset Analysis\n",
    "\n",
    "In this exercise you will be analyzing a DICOM dataset. This dataset is not as conveniently organized on the filesystem as some of the datasets we have seen in the lesson just now. Rather, this dataset looks like somethign that you are likely to get as a raw dump from a clinical data archive.  \n",
    "\n",
    "Your task is to use the skills you have acquired in this lesson to go through this dataset and answer (or provide your best quess to) the following questions:\n",
    "1. What imaging modality was used to produce this dataset?\n",
    "1. Data from how many patients does the dataset include?\n",
    "1. How many studies are in the dataset?\n",
    "1. What is the oldest and most recent study in the dataset?\n",
    "1. How many series are in the dataset?\n",
    "\n",
    "In addition, do the following tasks:\n",
    "\n",
    "1. List voxel dimensions of all 3D volumes (i.e. series) that the dataset contains as WxHxD\n",
    "1. The dataset contains two outliers. Can you find them? There is more than one way to find them. Type up why do you think these volumes are outliers and what approach did you use."
   ]
  },
  {
   "cell_type": "markdown",
   "metadata": {},
   "source": [
    "---"
   ]
  },
  {
   "cell_type": "markdown",
   "metadata": {},
   "source": [
    "&lt;TYPE YOUR ANSWERS HERE&gt;"
   ]
  },
  {
   "cell_type": "code",
   "execution_count": 1,
   "metadata": {},
   "outputs": [],
   "source": [
    "# Dataset of MR brains\n",
    "# Outlier #1 - CT chest\n",
    "# Outlier #2 - MR something else. Detectable through slice thickness, histogram, visual inspection, etc"
   ]
  }
 ],
 "metadata": {
  "kernelspec": {
   "display_name": "Python 3",
   "language": "python",
   "name": "python3"
  },
  "language_info": {
   "codemirror_mode": {
    "name": "ipython",
    "version": 3
   },
   "file_extension": ".py",
   "mimetype": "text/x-python",
   "name": "python",
   "nbconvert_exporter": "python",
   "pygments_lexer": "ipython3",
   "version": "3.7.5"
  }
 },
 "nbformat": 4,
 "nbformat_minor": 4
}
